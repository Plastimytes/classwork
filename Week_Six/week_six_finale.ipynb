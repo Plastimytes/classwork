{
 "cells": [
  {
   "cell_type": "code",
   "execution_count": 1,
   "id": "b05123f5",
   "metadata": {},
   "outputs": [
    {
     "name": "stdout",
     "output_type": "stream",
     "text": [
      "200\n",
      "Gray\n",
      "The __init__ is called\n",
      "250\n",
      "Blue\n",
      "The __init__ is called\n",
      "300\n",
      "Black\n",
      "The __init__ is called\n",
      "200\n",
      "Black\n"
     ]
    }
   ],
   "source": [
    "class Car:\n",
    "    def __init__(self, model, horsepower, Category,speed, color):\n",
    "        print(speed)\n",
    "        print(color)\n",
    "\n",
    "        self.speed = speed\n",
    "        self.color = color\n",
    "        self.model = model\n",
    "        self.horsepower = horsepower\n",
    "        self.Category = Category\n",
    "\n",
    "        print(\"The __init__ is called\")\n",
    "\n",
    "ford = Car(\"GT40\",481, \"Stock\",200,\"Gray\")\n",
    "honda = Car(\"Civic Type R\",590, \"Custom\",250, \"Blue\")\n",
    "audi = Car(\"Quttaro Group B\",895, \"cUSTOM\",300, \"Black\")\n",
    "\n",
    "print(ford.speed)\n",
    "print(audi.color)\n",
    "\n"
   ]
  },
  {
   "cell_type": "code",
   "execution_count": 9,
   "id": "ce411c2b",
   "metadata": {},
   "outputs": [
    {
     "name": "stdout",
     "output_type": "stream",
     "text": [
      "The following vehicles are as follows\n",
      "Ford:450,481\n",
      "Black\n"
     ]
    }
   ],
   "source": [
    "class Car:\n",
    "    def __init__(self, model, horsepower, Category,speed, color):\n",
    "\n",
    "        self.speed = speed\n",
    "        self.color = color\n",
    "        self.model = model\n",
    "        self.horsepower = horsepower\n",
    "        self.Category = Category\n",
    "\n",
    "\n",
    "    def Set_speed(self,value):#Setting the value\n",
    "        self.speed = value\n",
    "    def Get_speed(self, value):#Getting it back\n",
    "        self.speed = value\n",
    "\n",
    "\n",
    "ford = Car(\"GT40\",481, \"Stock\",200,\"Gray\")\n",
    "honda = Car(\"Civic Type R\",590, \"Custom\",250, \"Blue\")\n",
    "audi = Car(\"Quttaro Group B\",895, \"cUSTOM\",300, \"Black\")\n",
    "\n",
    "#Setting value for speed\n",
    "ford.Set_speed(450)\n",
    "\n",
    "print(\"The following vehicles are as follows\")\n",
    "print(f\"Ford:{ford.speed},{ford.horsepower}\")\n",
    "print(audi.color)\n",
    "\n"
   ]
  }
 ],
 "metadata": {
  "kernelspec": {
   "display_name": "Python 3",
   "language": "python",
   "name": "python3"
  },
  "language_info": {
   "codemirror_mode": {
    "name": "ipython",
    "version": 3
   },
   "file_extension": ".py",
   "mimetype": "text/x-python",
   "name": "python",
   "nbconvert_exporter": "python",
   "pygments_lexer": "ipython3",
   "version": "3.9.13"
  }
 },
 "nbformat": 4,
 "nbformat_minor": 5
}
