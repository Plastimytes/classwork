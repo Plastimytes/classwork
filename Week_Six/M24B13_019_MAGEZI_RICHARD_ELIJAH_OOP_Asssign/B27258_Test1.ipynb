{
 "cells": [
  {
   "cell_type": "markdown",
   "id": "b8a1a485",
   "metadata": {},
   "source": [
    "## MAGEZI RICHARD ELIJAH\n",
    "### M24B13/019\n",
    "### B27258\n",
    "### OBJECT ORIENTED PROGRAMMING"
   ]
  },
  {
   "cell_type": "markdown",
   "id": "84b0db33",
   "metadata": {},
   "source": [
    "------------------------------------------------------------------------------------------------------------------------------------------------------"
   ]
  },
  {
   "cell_type": "markdown",
   "id": "7cfc0921",
   "metadata": {},
   "source": [
    "## Question 1 - Encapsulation in Daily Reality"
   ]
  },
  {
   "cell_type": "markdown",
   "id": "8ed56ffb",
   "metadata": {},
   "source": [
    "1.Encapsulation is the bundling of attritubutes and methods that operate on said attributes as a class while Data hiding is a mechanism under encapsulation that restricts direct usually unauthorized access to the data of an object.\n",
    "\n",
    "2.In a community health clinic that uses a digital registry of community members' health information like disease history and medication.Without proper encapsulation anyone with access to the digital registry could directly edit things like medication records and view other sensitive medical notes. By using encapsulation and declaring sensitive information private unathourized direct access is prevented."
   ]
  },
  {
   "cell_type": "markdown",
   "id": "ac316234",
   "metadata": {},
   "source": [
    "+------------------------+\n",
    "|   PatientRecord        |\n",
    "+------------------------+\n",
    "|-PatientID: String      |\n",
    "|-Name: String           |\n",
    "|-DoctorPassword: Integer|\n",
    "|-Diagnosis: String      |\n",
    "|-PatientNotes: String   |\n",
    "|-Medication: String     |\n",
    "+------------------------+\n"
   ]
  },
  {
   "cell_type": "code",
   "execution_count": null,
   "id": "b9d62528",
   "metadata": {},
   "outputs": [
    {
     "name": "stdout",
     "output_type": "stream",
     "text": [
      "ACCESS GRANTED!\n"
     ]
    }
   ],
   "source": [
    "#Class for the Patient Record\n",
    "class PatientRecord:\n",
    "    #Intializer for the patient record\n",
    "    def __init__(self, patientID, Name, Diagnosis, PatientNotes, Medication):\n",
    "        self._patientID = patientID\n",
    "        self.name = Name\n",
    "        self._Diagnosis=Diagnosis\n",
    "        self._PatientNotes=PatientNotes\n",
    "        self._Medication=Medication\n",
    "\n",
    "    #Getters\n",
    "    def get_patientID(self):\n",
    "        print(f\"Patient ID: {self._patientID}\")\n",
    "\n",
    "    def get_name(self):\n",
    "        print(f\"Name: {self._name}\")\n",
    "    def get_doctor_ID(self, DoctorID):\n",
    "        self.DoctorID=DoctorID\n",
    "        print(f\"Doctor id:{self.DoctorID}\")\n",
    "          \n",
    "    #Setters\n",
    "    #Setter to add a diagnosis\n",
    "    def add_diagnosis(doctor_password):\n",
    "            \n",
    "         if doctor_password<=0:\n",
    "            raise ValueError(\"Unathourized User!! Access Denied!!\")\n",
    "        \n",
    "         else:\n",
    "             print(\"ACCESS GRANTED!\")\n",
    "\n",
    "    #The validation rule is that if the Doctor's password is less than or equal to zero access to add a diagnosis will be denied.This is the invalid run. This makes sure that one without the doctor password cannot access the patient records\n",
    "    # The else statement will provide the valid run\n",
    "    # Trouble finding a method to add characters to make the password secure\n",
    "    # Input methods do not work         \n",
    "\n",
    "PatientRecord.add_diagnosis(120)                \n",
    "           "
   ]
  },
  {
   "cell_type": "markdown",
   "id": "ad58911d",
   "metadata": {},
   "source": [
    "------------------------------------------------------------------------------------------------------------------------------------------------------------"
   ]
  },
  {
   "cell_type": "markdown",
   "id": "866b1a72",
   "metadata": {},
   "source": [
    "## Question 2- Alpha MIS Simulation"
   ]
  },
  {
   "cell_type": "markdown",
   "id": "18d21b7b",
   "metadata": {},
   "source": [
    "Encapsulation allows for bundling of Data like Fees amount paid and student grades and restricting direct access to the data thus protecting sensitive information."
   ]
  },
  {
   "cell_type": "code",
   "execution_count": null,
   "id": "77ad6ad9",
   "metadata": {},
   "outputs": [
    {
     "name": "stdout",
     "output_type": "stream",
     "text": [
      "\n",
      " Access Number: A2345\n",
      "\n",
      " Faculty:Faculty of Engineering\n",
      "\n",
      " Time Stamp:2025-10-07 18:47:29.756040\n"
     ]
    }
   ],
   "source": [
    "\n",
    "#The following represents a course registration system for a student at Uganda Christian University\n",
    "#It will deal with their name, access number, Faculty and a few other things\n",
    "#It should prevent unathourized access to change the GPA of the student in question\n",
    "\n",
    "from datetime import datetime #Importing the datetime module to work on the time stamp\n",
    "class UCU_CourseRegistration:\n",
    "    def __init__(self,StudentName, AccessNumber, Faculty, TimeStamp: datetime.now, StudentID, Course, StudentEmail, Year, GPA):\n",
    "        self.StudentName=StudentName\n",
    "        self.AccessNumber=AccessNumber\n",
    "        self.Faculty=Faculty\n",
    "        self.TimeStamp=TimeStamp\n",
    "        self._StudentID=StudentID\n",
    "        self.Course=Course\n",
    "        self._StudentEmail=StudentEmail\n",
    "        self.Year=Year\n",
    "        self.__GPA=GPA\n",
    "\n",
    "\n",
    "    #Setters and validations\n",
    "    def add_GPA(self, points):\n",
    "        if points <=0:\n",
    "            raise ValueError(\"Cannot add GPA of zero\")\n",
    "        self.__GPA += points\n",
    "\n",
    "    def reduce_GPA(self, points):\n",
    "        if points <=0:\n",
    "            raise ValueError(\"Cannot subtract less than Zero\")\n",
    "        if points > self.__GPA:\n",
    "            raise ValueError(\"Continue Elsewhere\")\n",
    "        self.__GPA -= points\n",
    "\n",
    "    def show_GPA(self):\n",
    "        return self.__GPA \n",
    "\n",
    "    def Summary(self):#Summary involving the student's details such as thier access number, Faculty and Time stamp\n",
    "        print(f\"\\n Access Number: {self.AccessNumber}\")\n",
    "        print(f\"\\n Faculty:{self.Faculty}\")\n",
    "        print(f\"\\n Time Stamp:{self.TimeStamp}\")\n",
    "\n",
    "Ronald = UCU_CourseRegistration(\"Ronald\", \"A2345\", \"Faculty of Engineering\", datetime.now(), \"U234\", \"Information Technology\", \"ronald@gmail.com\", 2, 4.30) \n",
    "Ronald.show_GPA()\n",
    "\n",
    "Ronald.Summary()          "
   ]
  },
  {
   "cell_type": "markdown",
   "id": "1a3f1f4c",
   "metadata": {},
   "source": [
    "------------------------------------------------------------------------------------------------------------------------------------------------------------"
   ]
  },
  {
   "cell_type": "markdown",
   "id": "3ed7e54f",
   "metadata": {},
   "source": [
    "## Question 3- Hostel Visitor Audit"
   ]
  },
  {
   "cell_type": "markdown",
   "id": "6517ec22",
   "metadata": {},
   "source": [
    "A digital vistor log would help track the movements of student in and out of given hostels and study movement patterns in case of suspicious activity. This log also provides faster and smoother check in for students. The privacy of students is protected since others cannot see who they came to visit, who was visited or why."
   ]
  },
  {
   "cell_type": "code",
   "execution_count": 1,
   "id": "59abe34e",
   "metadata": {},
   "outputs": [
    {
     "name": "stdout",
     "output_type": "stream",
     "text": [
      "ID: q234\n",
      "HOSTEL: David's Ark\n",
      "TIME: 2025-10-08 05:37:01.345272\n",
      "ENTRY RECORDED !\n",
      "      \n",
      "ERROR! Cannot record entry. Invalid Name! Irene342 Namutebi\n",
      "\n",
      " LATEST ENTRY\n",
      "\n",
      "ID: q234\n",
      "\n",
      " NAME: entry.name\n",
      "\n",
      " HOSTEL: entry.hostel\n",
      "\n",
      " TIME: entry.timestamp\n",
      "No entry under d1234\n"
     ]
    }
   ],
   "source": [
    "from datetime import datetime\n",
    "\n",
    "#Class for Hostel vistor tracking\n",
    "class HostelVisit:\n",
    "\n",
    "#Storing only the latest visitor entry\n",
    "    def __init__(self):\n",
    "        self.latestEntry = {}\n",
    "\n",
    "#Validation Methods\n",
    "    def __validate_name(self,name):\n",
    "        #Check empty name cells\n",
    "        stripped_name=name.strip()\n",
    "        if not stripped_name:\n",
    "            raise ValueError(\"Invalid Name! Name field cannot be empty!\")\n",
    "        \n",
    "        #With characters\n",
    "        for char in stripped_name:\n",
    "            if not char.isalpha() and char != \" \":\n",
    "                raise ValueError(f\"Invalid Name! {stripped_name}\")\n",
    "\n",
    "        return stripped_name\n",
    "\n",
    "##Methods to record, update and show the latest entry \n",
    "    def record(self, student_id, name, hostel_name): \n",
    "        #Recording new visitor while overwriting old\n",
    "        try:\n",
    "            validated_name = self.__validate_name(name)\n",
    "            timestamp = datetime.now()\n",
    "\n",
    "            #Storing an entry for a student\n",
    "            self.latestEntry[student_id] = {\n",
    "                \"Name\" : validated_name,\n",
    "                \"Hostel\" : hostel_name,\n",
    "                \"TimeStamp\" : timestamp\n",
    "            }\n",
    "      \n",
    "            print(f\"ID: {student_id}\")\n",
    "            print(f\"HOSTEL: {hostel_name}\")\n",
    "            print(f\"TIME: {timestamp}\")\n",
    "            print(f\"ENTRY RECORDED !\")\n",
    "\n",
    "        except ValueError as e:\n",
    "            #Exception handling\n",
    "            print(f\"      \")\n",
    "            print(f\"ERROR! Cannot record entry. {e}\")\n",
    "    \n",
    "    #Update method\n",
    "    def update(self, student_id, new_hostel_name):\n",
    "        if student_id not in self.latest_entry:\n",
    "            print(f\"ERROR! Student ID {student_id} not found. Unable to update.\")\n",
    "            return\n",
    "\n",
    "        timestamp = datetime.datetime.now()\n",
    "\n",
    "    #Updating required details\n",
    "        self.latest_entry[student_id][\"Hostel\"] = new_hostel_name\n",
    "        self.latest_entry[student_id][\"Timestamp\"] = timestamp\n",
    "        print(f\"\\n ID: {student_id}\") \n",
    "        print(f\"\\n HOSTEL: {student_id}\")\n",
    "        print(f\"\\n TIME: {student_id}\")\n",
    "        print(f\"\\n UPDATED!\")          \n",
    "\n",
    "    #Show line for given student ID\n",
    "    def show_line(self, student_id):\n",
    "        entry = self.latestEntry.get(student_id)\n",
    "        if entry:\n",
    "            print(\"\\n LATEST ENTRY\")\n",
    "            print(f\"\\nID: {student_id}\") \n",
    "            print(f\"\\n NAME: entry.name\")\n",
    "            print(f\"\\n HOSTEL: entry.hostel\")\n",
    "            print(f\"\\n TIME: entry.timestamp\")\n",
    "\n",
    "        else:\n",
    "            print(f\"No entry under {student_id}\")\n",
    "\n",
    "if __name__ == \"__main__\":\n",
    "    tracker = HostelVisit()\n",
    "\n",
    "    #Records\n",
    "    tracker.record(\"q234\", \"Mukasa Jonathan\", \"David's Ark\")#Valid entry\n",
    "    tracker.record(\"d1234\", \"Irene342 Namutebi\", \"Victory Hostel\")#Invalid entry\n",
    "    tracker.show_line(\"q234\")\n",
    "    tracker.show_line(\"d1234\")\n",
    "\n",
    "\n",
    "\n",
    "               \n",
    "\n",
    "\n"
   ]
  },
  {
   "cell_type": "markdown",
   "id": "eadc60cd",
   "metadata": {},
   "source": [
    "------------------------------------------------------------------------------------------------------------------------------------------------------------"
   ]
  },
  {
   "cell_type": "markdown",
   "id": "3edb71b6",
   "metadata": {},
   "source": [
    "## Question 4- Creative Encapsulation challenge"
   ]
  },
  {
   "cell_type": "markdown",
   "id": "584906a5",
   "metadata": {},
   "source": [
    "Encapsulation is very important in a mobile money system sice it keeps sensitive data, like a user's PIN numberand account balance private. It enforces rules by only allowing access through controlled methods like deposit() and withdraw() which also make sure that a user cannot withdraw more than they have"
   ]
  },
  {
   "cell_type": "code",
   "execution_count": 12,
   "id": "ff4dce72",
   "metadata": {},
   "outputs": [
    {
     "name": "stdout",
     "output_type": "stream",
     "text": [
      "Deposit successful! New balance: 35000\n",
      "Withdrawal of 20000 successful ! New balance: 15000\n",
      "Current balance for Richard: 15000\n",
      "INVALID PIN\n",
      "Withdrawal of 5000 successful ! New balance: 10000\n",
      "Withdrawal failed! Exceeds daily limit\n",
      "Withdrawal failed! Insufficient balance!\n"
     ]
    }
   ],
   "source": [
    "##Mobile money system\n",
    "##Two classes will be created one  for the mobile money account and one for the transactions\n",
    "#class for the account\n",
    "class MMAccount:\n",
    "\n",
    "    #Transaction limit\n",
    "    MaxDailyTransaction = 90000\n",
    "\n",
    "    def __init__(self, user, initial_balance=0):\n",
    "        self.__user = user\n",
    "        self.__balance = initial_balance \n",
    "        self.__pin = \"12345\" #Pin placeholder\n",
    "        self.__withdrawn = 0\n",
    "\n",
    "    #Methods to deposit and withdraw methods \n",
    "    def deposit(self, amount):\n",
    "        if amount > 0:\n",
    "            self.__balance += amount\n",
    "            print (f\"Deposit successful! New balance: {self.__balance}\")\n",
    "        else:\n",
    "            print(f\"Deposit amount must be a positive value\") \n",
    "\n",
    "    def withdraw(self, amount, PinAttempt):\n",
    "        if PinAttempt != self.__pin:\n",
    "            print(f\"INVALID PIN\")\n",
    "        if amount <= 0:\n",
    "            print(\"Amount must be a postive value\")\n",
    "\n",
    "        if self.__withdrawn + amount > self.MaxDailyTransaction:\n",
    "            remaining_limit = self.MaxDailyTransaction - self.__withdrawn \n",
    "            print(f\"Withdrawal failed! Exceeds daily limit\")                         \n",
    "\n",
    "        if amount <= self.__balance:\n",
    "            self.__balance -= amount \n",
    "            self.__withdrawn += amount\n",
    "            print(f\"Withdrawal of {amount} successful ! New balance: {self.__balance}\")  \n",
    "        else:\n",
    "            print(f\"Withdrawal failed! Insufficient balance!\")\n",
    "\n",
    "        #Methods to view\n",
    "    def check_balance(self, PinAttempt):\n",
    "            if PinAttempt == self.__pin:\n",
    "                print(f\"Current balance for {self.__user}: {self.__balance}\")\n",
    "            else:\n",
    "                print(\"Invalid PIN!\")\n",
    "\n",
    "    def get_user(self):\n",
    "            return self.__user\n",
    "    def get_withdrawn(self):\n",
    "            return self.__withdrawn\n",
    "\n",
    "#Class 2 for transactions.\n",
    "#Intracts with MMAccount class externally\n",
    "\n",
    "class Transaction:\n",
    "    def __init__(self, account: MMAccount):\n",
    "        self.account = account\n",
    "    \n",
    "    #Withdrawal method with the withdrawal amount and pin\n",
    "    def process_withdrawal(self,amount, pin):\n",
    "        return self.account.withdraw(amount, pin)\n",
    "    \n",
    "    #Deposit method with the amont to be deposit\n",
    "    def process_deposit(self, amount):\n",
    "        return self.account.deposit(amount)\n",
    "    \n",
    "    #Method to check  the account balance involves the pin number\n",
    "    def check_account_status(self, pin):\n",
    "        return self.account.check_balance(pin)    \n",
    "\n",
    "#Setup\n",
    "user1 =MMAccount(\"Richard\", 25000)#Instance of a User's account  \n",
    "TransactionServ = Transaction(user1)\n",
    "\n",
    "#Demonstration of successful deposit and withdrawal\n",
    "TransactionServ.process_deposit(10000)\n",
    "TransactionServ.process_withdrawal(20000, \"12345\")\n",
    "user1.check_balance(\"12345\")\n",
    "\n",
    "#Demonstration of  PIN (Security Encapsulation)\n",
    "TransactionServ.process_withdrawal(5000, \"5432\")#False pin\n",
    "\n",
    "#Withdrawal limit demonstration\n",
    "TransactionServ.process_withdrawal(100000, \"12345\")"
   ]
  }
 ],
 "metadata": {
  "kernelspec": {
   "display_name": "Python 3",
   "language": "python",
   "name": "python3"
  },
  "language_info": {
   "codemirror_mode": {
    "name": "ipython",
    "version": 3
   },
   "file_extension": ".py",
   "mimetype": "text/x-python",
   "name": "python",
   "nbconvert_exporter": "python",
   "pygments_lexer": "ipython3",
   "version": "3.9.13"
  }
 },
 "nbformat": 4,
 "nbformat_minor": 5
}
